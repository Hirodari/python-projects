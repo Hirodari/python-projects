{
 "cells": [
  {
   "cell_type": "code",
   "execution_count": 65,
   "metadata": {},
   "outputs": [],
   "source": [
    "import boto3\n",
    "from datetime import datetime"
   ]
  },
  {
   "cell_type": "code",
   "execution_count": 66,
   "metadata": {},
   "outputs": [],
   "source": [
    "today_date = datetime.now()"
   ]
  },
  {
   "cell_type": "code",
   "execution_count": 67,
   "metadata": {},
   "outputs": [
    {
     "data": {
      "text/plain": [
       "datetime.datetime(2023, 5, 20, 15, 45, 9, 529368)"
      ]
     },
     "execution_count": 67,
     "metadata": {},
     "output_type": "execute_result"
    }
   ],
   "source": [
    "today_date"
   ]
  },
  {
   "cell_type": "code",
   "execution_count": 68,
   "metadata": {},
   "outputs": [],
   "source": [
    "s_today_date = today_date.strftime('%Y%m%d')"
   ]
  },
  {
   "cell_type": "code",
   "execution_count": 69,
   "metadata": {},
   "outputs": [
    {
     "data": {
      "text/plain": [
       "'20230520'"
      ]
     },
     "execution_count": 69,
     "metadata": {},
     "output_type": "execute_result"
    }
   ],
   "source": [
    "s_today_date"
   ]
  },
  {
   "cell_type": "code",
   "execution_count": 70,
   "metadata": {},
   "outputs": [
    {
     "data": {
      "text/plain": [
       "'20230520/'"
      ]
     },
     "execution_count": 70,
     "metadata": {},
     "output_type": "execute_result"
    }
   ],
   "source": [
    "folder_name = s_today_date + \"/\"\n",
    "folder_name"
   ]
  },
  {
   "cell_type": "code",
   "execution_count": 71,
   "metadata": {},
   "outputs": [],
   "source": [
    "# let's create s3 client\n",
    "\n",
    "s3_client = boto3.client(\"s3\")"
   ]
  },
  {
   "cell_type": "code",
   "execution_count": 72,
   "metadata": {},
   "outputs": [
    {
     "data": {
      "text/plain": [
       "{'ResponseMetadata': {'RequestId': 'QEATN92W2WG1C8CG',\n",
       "  'HostId': 'O0ckjtVALFsqiRpMO5LpFFBqwouT8rcWYoxtlx9Gxn9GvQuvckTCGkTefVBakoMlX2EXqnCnMio=',\n",
       "  'HTTPStatusCode': 200,\n",
       "  'HTTPHeaders': {'x-amz-id-2': 'O0ckjtVALFsqiRpMO5LpFFBqwouT8rcWYoxtlx9Gxn9GvQuvckTCGkTefVBakoMlX2EXqnCnMio=',\n",
       "   'x-amz-request-id': 'QEATN92W2WG1C8CG',\n",
       "   'date': 'Sat, 20 May 2023 13:45:12 GMT',\n",
       "   'x-amz-bucket-region': 'us-east-1',\n",
       "   'content-type': 'application/xml',\n",
       "   'transfer-encoding': 'chunked',\n",
       "   'server': 'AmazonS3'},\n",
       "  'RetryAttempts': 0},\n",
       " 'IsTruncated': False,\n",
       " 'Contents': [{'Key': '20230519/',\n",
       "   'LastModified': datetime.datetime(2023, 5, 19, 17, 8, 36, tzinfo=tzutc()),\n",
       "   'ETag': '\"d41d8cd98f00b204e9800998ecf8427e\"',\n",
       "   'Size': 0,\n",
       "   'StorageClass': 'STANDARD'},\n",
       "  {'Key': '20230519/devops@master_accessKeys.csv',\n",
       "   'LastModified': datetime.datetime(2023, 5, 20, 13, 39, 18, tzinfo=tzutc()),\n",
       "   'ETag': '\"d49241d1332ec94284e20046f2958f31\"',\n",
       "   'Size': 99,\n",
       "   'StorageClass': 'STANDARD'},\n",
       "  {'Key': '20230519/devops@master_credentials.csv',\n",
       "   'LastModified': datetime.datetime(2023, 5, 20, 13, 39, 19, tzinfo=tzutc()),\n",
       "   'ETag': '\"53296173d4b4c9a9e61a1bd1d6da31f7\"',\n",
       "   'Size': 126,\n",
       "   'StorageClass': 'STANDARD'},\n",
       "  {'Key': '20230519/env-variables-file.env',\n",
       "   'LastModified': datetime.datetime(2023, 5, 20, 13, 39, 20, tzinfo=tzutc()),\n",
       "   'ETag': '\"d41d8cd98f00b204e9800998ecf8427e\"',\n",
       "   'Size': 0,\n",
       "   'StorageClass': 'STANDARD'},\n",
       "  {'Key': 'fleetcart.sql',\n",
       "   'LastModified': datetime.datetime(2023, 5, 20, 13, 44, 51, tzinfo=tzutc()),\n",
       "   'ETag': '\"b5418f3f97bd5d8450ffe57a7416eada\"',\n",
       "   'Size': 1652799,\n",
       "   'StorageClass': 'STANDARD'},\n",
       "  {'Key': 'iac.zip',\n",
       "   'LastModified': datetime.datetime(2023, 5, 20, 13, 44, 44, tzinfo=tzutc()),\n",
       "   'ETag': '\"f6dc5743664b416f273a3e9814927287\"',\n",
       "   'Size': 9777,\n",
       "   'StorageClass': 'STANDARD'}],\n",
       " 'Name': 'hiroyito-organized-s3-objects',\n",
       " 'Prefix': '',\n",
       " 'MaxKeys': 1000,\n",
       " 'EncodingType': 'url',\n",
       " 'KeyCount': 6}"
      ]
     },
     "execution_count": 72,
     "metadata": {},
     "output_type": "execute_result"
    }
   ],
   "source": [
    "# let's list objets of bucket called hiroyito-organized-s3-objects\n",
    "bucket_name = \"hiroyito-organized-s3-objects\"\n",
    "list_s3_objects = s3_client.list_objects_v2(Bucket=bucket_name)\n",
    "list_s3_objects"
   ]
  },
  {
   "cell_type": "code",
   "execution_count": 73,
   "metadata": {},
   "outputs": [],
   "source": [
    "s3_files_name = list_s3_objects.get(\"Contents\")"
   ]
  },
  {
   "cell_type": "code",
   "execution_count": 74,
   "metadata": {},
   "outputs": [
    {
     "data": {
      "text/plain": [
       "[{'Key': '20230519/',\n",
       "  'LastModified': datetime.datetime(2023, 5, 19, 17, 8, 36, tzinfo=tzutc()),\n",
       "  'ETag': '\"d41d8cd98f00b204e9800998ecf8427e\"',\n",
       "  'Size': 0,\n",
       "  'StorageClass': 'STANDARD'},\n",
       " {'Key': '20230519/devops@master_accessKeys.csv',\n",
       "  'LastModified': datetime.datetime(2023, 5, 20, 13, 39, 18, tzinfo=tzutc()),\n",
       "  'ETag': '\"d49241d1332ec94284e20046f2958f31\"',\n",
       "  'Size': 99,\n",
       "  'StorageClass': 'STANDARD'},\n",
       " {'Key': '20230519/devops@master_credentials.csv',\n",
       "  'LastModified': datetime.datetime(2023, 5, 20, 13, 39, 19, tzinfo=tzutc()),\n",
       "  'ETag': '\"53296173d4b4c9a9e61a1bd1d6da31f7\"',\n",
       "  'Size': 126,\n",
       "  'StorageClass': 'STANDARD'},\n",
       " {'Key': '20230519/env-variables-file.env',\n",
       "  'LastModified': datetime.datetime(2023, 5, 20, 13, 39, 20, tzinfo=tzutc()),\n",
       "  'ETag': '\"d41d8cd98f00b204e9800998ecf8427e\"',\n",
       "  'Size': 0,\n",
       "  'StorageClass': 'STANDARD'},\n",
       " {'Key': 'fleetcart.sql',\n",
       "  'LastModified': datetime.datetime(2023, 5, 20, 13, 44, 51, tzinfo=tzutc()),\n",
       "  'ETag': '\"b5418f3f97bd5d8450ffe57a7416eada\"',\n",
       "  'Size': 1652799,\n",
       "  'StorageClass': 'STANDARD'},\n",
       " {'Key': 'iac.zip',\n",
       "  'LastModified': datetime.datetime(2023, 5, 20, 13, 44, 44, tzinfo=tzutc()),\n",
       "  'ETag': '\"f6dc5743664b416f273a3e9814927287\"',\n",
       "  'Size': 9777,\n",
       "  'StorageClass': 'STANDARD'}]"
      ]
     },
     "execution_count": 74,
     "metadata": {},
     "output_type": "execute_result"
    }
   ],
   "source": [
    "s3_files_name"
   ]
  },
  {
   "cell_type": "code",
   "execution_count": 75,
   "metadata": {},
   "outputs": [
    {
     "data": {
      "text/plain": [
       "['20230519/',\n",
       " '20230519/devops@master_accessKeys.csv',\n",
       " '20230519/devops@master_credentials.csv',\n",
       " '20230519/env-variables-file.env',\n",
       " 'fleetcart.sql',\n",
       " 'iac.zip']"
      ]
     },
     "execution_count": 75,
     "metadata": {},
     "output_type": "execute_result"
    }
   ],
   "source": [
    "s3_files_name_list = [ item.get(\"Key\") for item in s3_files_name]\n",
    "s3_files_name_list"
   ]
  },
  {
   "cell_type": "code",
   "execution_count": 76,
   "metadata": {},
   "outputs": [
    {
     "name": "stdout",
     "output_type": "stream",
     "text": [
      "Zayn is naughty\n"
     ]
    }
   ],
   "source": [
    "# create a folder to s3\n",
    "\n",
    "if folder_name not in s3_files_name_list:\n",
    "    print(\"Zayn is naughty\")\n",
    "    s3_client.put_object(Bucket=bucket_name, Key=folder_name)"
   ]
  },
  {
   "cell_type": "code",
   "execution_count": 77,
   "metadata": {},
   "outputs": [
    {
     "name": "stdout",
     "output_type": "stream",
     "text": [
      "hiroyito-organized-s3-objects, 20230520/\n"
     ]
    }
   ],
   "source": [
    "print(f\"{bucket_name}, {folder_name}\")\n",
    "for item in s3_files_name:\n",
    "    object_creation_date = item.get('LastModified').strftime('%Y%m%d') + '/'\n",
    "    object_name = item.get('Key')\n",
    "  \n",
    "    if object_creation_date == folder_name and \"/\" not in object_name:\n",
    "        s3_client.copy_object(\n",
    "            Bucket = bucket_name,\n",
    "            CopySource = f\"{bucket_name}/{object_name}\",\n",
    "            Key =f\"{folder_name}{object_name}\"\n",
    "        )\n",
    "\n",
    "        s3_client.delete_object(\n",
    "            Bucket = bucket_name,\n",
    "            Key = object_name\n",
    "        )"
   ]
  },
  {
   "cell_type": "code",
   "execution_count": null,
   "metadata": {},
   "outputs": [],
   "source": []
  }
 ],
 "metadata": {
  "kernelspec": {
   "display_name": "Python 3",
   "language": "python",
   "name": "python3"
  },
  "language_info": {
   "codemirror_mode": {
    "name": "ipython",
    "version": 3
   },
   "file_extension": ".py",
   "mimetype": "text/x-python",
   "name": "python",
   "nbconvert_exporter": "python",
   "pygments_lexer": "ipython3",
   "version": "3.10.7"
  },
  "orig_nbformat": 4
 },
 "nbformat": 4,
 "nbformat_minor": 2
}
